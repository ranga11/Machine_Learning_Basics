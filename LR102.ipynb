{
 "cells": [
  {
   "cell_type": "code",
   "execution_count": 54,
   "metadata": {},
   "outputs": [],
   "source": [
    "#import packages\n",
    "import pandas as pd\n",
    "import numpy as np\n",
    "import random\n",
    "import matplotlib.pyplot as plt\n",
    "from matplotlib import style\n",
    "from statistics import mean"
   ]
  },
  {
   "cell_type": "code",
   "execution_count": 55,
   "metadata": {},
   "outputs": [],
   "source": [
    "# creating a dataset\n",
    "def create_dataset(hm,variance, step=2, correlation =False):\n",
    "    val = 1\n",
    "    ys = []\n",
    "    for i in range(hm):\n",
    "        y = val+random.randrange(-variance, variance)\n",
    "        ys.append(y)\n",
    "        \n",
    "        if correlation and correlation =='pos':\n",
    "            val+=step\n",
    "        if correlation and correlation =='neg':\n",
    "            val-=step\n",
    "    xs= [i for i in range(len(ys))]\n",
    "    \n",
    "    return np.array(xs, dtype=np.float64),np.array(ys, dtype=np.float64)\n",
    "        "
   ]
  },
  {
   "cell_type": "code",
   "execution_count": 56,
   "metadata": {
    "scrolled": false
   },
   "outputs": [],
   "source": [
    "# The value of variance and correlation should be adjusted to check for the value of r_squared which would show the good-fit\n",
    "xs,ys= create_dataset(40,80,2, correlation=False)"
   ]
  },
  {
   "cell_type": "code",
   "execution_count": 63,
   "metadata": {},
   "outputs": [
    {
     "name": "stdout",
     "output_type": "stream",
     "text": [
      "[ 0.  1.  2.  3.  4.  5.  6.  7.  8.  9. 10. 11. 12. 13. 14. 15. 16. 17.\n",
      " 18. 19. 20. 21. 22. 23. 24. 25. 26. 27. 28. 29. 30. 31. 32. 33. 34. 35.\n",
      " 36. 37. 38. 39.] [ 25. -32. -16.  24.  43. -29. -72. -15.  75.  33.  79.  47.  71.  61.\n",
      " -70. -51.  44.  28.  57. -49.  -6. -62. -51.  58.  77.  54.  12. -65.\n",
      " -26.  26.  55.  42.  45.  15.  41.  22. -50.  15. -67.  47.]\n"
     ]
    }
   ],
   "source": [
    "# check the random dataset that is created\n",
    "print(xs,ys)"
   ]
  },
  {
   "cell_type": "code",
   "execution_count": 64,
   "metadata": {},
   "outputs": [
    {
     "name": "stdout",
     "output_type": "stream",
     "text": [
      "0.010975609756097604 10.660975609756097\n"
     ]
    }
   ],
   "source": [
    "#Slop and intercept function defination\n",
    "def best_fit_slope_intercept(xs,ys):\n",
    "    m =  (((mean(xs) * mean(ys)) - mean(xs*ys)) /\n",
    "         ((mean(xs)**2) - mean(xs**2)))\n",
    "    b= (mean(ys)- m*mean(xs))\n",
    "    return m, b\n",
    "m,b = best_fit_slope_intercept(xs,ys)\n",
    "\n",
    "print(m,b)"
   ]
  },
  {
   "cell_type": "code",
   "execution_count": 65,
   "metadata": {},
   "outputs": [],
   "source": [
    "# R_squared value \n",
    "def Squared_error(ys_orig,ys_line):\n",
    "    return sum((ys_line-ys_orig)**2)\n",
    "def coefficient_of_determination(ys_orig,ys_line):\n",
    "    ys_mean_line=[mean(ys_line) for y in ys_orig]\n",
    "    squared_error_reg= Squared_error(ys_orig,ys_line)\n",
    "    squared_error_y_mean= Squared_error(ys_orig,ys_mean_line)\n",
    "    return 1 - (squared_error_reg)/(squared_error_y_mean)"
   ]
  },
  {
   "cell_type": "code",
   "execution_count": 66,
   "metadata": {},
   "outputs": [],
   "source": [
    "regression_line= [(m*x)+b for x in xs]"
   ]
  },
  {
   "cell_type": "code",
   "execution_count": 67,
   "metadata": {},
   "outputs": [
    {
     "name": "stdout",
     "output_type": "stream",
     "text": [
      "7.239980783113609e-06\n"
     ]
    }
   ],
   "source": [
    "r_squared = coefficient_of_determination(ys,regression_line)\n",
    "print(r_squared)"
   ]
  },
  {
   "cell_type": "code",
   "execution_count": 68,
   "metadata": {},
   "outputs": [
    {
     "data": {
      "image/png": "[encoded data removed]",
      "text/plain": [
       "<Figure size 432x288 with 1 Axes>"
      ]
     },
     "metadata": {},
     "output_type": "display_data"
    }
   ],
   "source": [
    "predict_x = 8\n",
    "predict_y = (m*predict_x)+b\n",
    "\n",
    "plt.scatter(xs,ys)\n",
    "#plt.plot(predict_x,predict_y, color = 'r')\n",
    "plt.plot(xs,regression_line)\n",
    "plt.show()"
   ]
  },
  {
   "cell_type": "code",
   "execution_count": null,
   "metadata": {},
   "outputs": [],
   "source": []
  },
  {
   "cell_type": "code",
   "execution_count": null,
   "metadata": {},
   "outputs": [],
   "source": []
  }
 ],
 "metadata": {
  "kernelspec": {
   "display_name": "Python 3",
   "language": "python",
   "name": "python3"
  },
  "language_info": {
   "codemirror_mode": {
    "name": "ipython",
    "version": 3
   },
   "file_extension": ".py",
   "mimetype": "text/x-python",
   "name": "python",
   "nbconvert_exporter": "python",
   "pygments_lexer": "ipython3",
   "version": "3.6.3"
  }
 },
 "nbformat": 4,
 "nbformat_minor": 2
}
